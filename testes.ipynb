{
 "cells": [
  {
   "cell_type": "code",
   "execution_count": 1,
   "metadata": {},
   "outputs": [
    {
     "name": "stdout",
     "output_type": "stream",
     "text": [
      "olá mundo\n"
     ]
    }
   ],
   "source": [
    "print('olá mundo')"
   ]
  },
  {
   "cell_type": "code",
   "execution_count": 2,
   "metadata": {},
   "outputs": [
    {
     "name": "stderr",
     "output_type": "stream",
     "text": [
      "/Users/marcobispo/Documents/Portfolio/venv/lib/python3.9/site-packages/urllib3/__init__.py:35: NotOpenSSLWarning: urllib3 v2 only supports OpenSSL 1.1.1+, currently the 'ssl' module is compiled with 'LibreSSL 2.8.3'. See: https://github.com/urllib3/urllib3/issues/3020\n",
      "  warnings.warn(\n"
     ]
    },
    {
     "name": "stdout",
     "output_type": "stream",
     "text": [
      "Texto original: Olá, mundo!\n",
      "Tradução para en: Hello World!\n"
     ]
    }
   ],
   "source": [
    "from deep_translator import GoogleTranslator\n",
    "\n",
    "def tradutor(texto, idioma_origem, idioma_destino):\n",
    "  tradutor = GoogleTranslator(source=idioma_origem, target=idioma_destino)\n",
    "  traducao = tradutor.translate(texto)\n",
    "  return traducao\n",
    "\n",
    "\n",
    "texto_a_traduzir = \"Olá, mundo!\"\n",
    "idioma_origem = \"pt\"  # Português\n",
    "idioma_destino = \"en\"  # Inglês\n",
    "\n",
    "traducao = tradutor(texto_a_traduzir, idioma_origem, idioma_destino)\n",
    "\n",
    "print(f\"Texto original: {texto_a_traduzir}\")\n",
    "print(f\"Tradução para {idioma_destino}: {traducao}\")\n",
    "\n"
   ]
  },
  {
   "cell_type": "code",
   "execution_count": 3,
   "metadata": {},
   "outputs": [
    {
     "name": "stdout",
     "output_type": "stream",
     "text": [
      "introdução\n",
      "introduction\n"
     ]
    }
   ],
   "source": [
    "from deep_translator import GoogleTranslator\n",
    "def tradutor(text, translator):\n",
    "    if translator:\n",
    "        text_1 = GoogleTranslator(source=\"en\", target=\"pt\").translate(text)\n",
    "    else:\n",
    "        text_1 = text\n",
    "    return text_1\n",
    "\n",
    "introduction = 'introduction'\n",
    "\n",
    "print(tradutor(introduction, True))\n",
    "print(tradutor(introduction, False))\n"
   ]
  },
  {
   "cell_type": "code",
   "execution_count": null,
   "metadata": {},
   "outputs": [],
   "source": []
  }
 ],
 "metadata": {
  "kernelspec": {
   "display_name": ".venv",
   "language": "python",
   "name": "python3"
  },
  "language_info": {
   "codemirror_mode": {
    "name": "ipython",
    "version": 3
   },
   "file_extension": ".py",
   "mimetype": "text/x-python",
   "name": "python",
   "nbconvert_exporter": "python",
   "pygments_lexer": "ipython3",
   "version": "3.9.6"
  }
 },
 "nbformat": 4,
 "nbformat_minor": 2
}
